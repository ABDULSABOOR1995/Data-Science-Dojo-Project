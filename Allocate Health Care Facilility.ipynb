{
 "cells": [
  {
   "cell_type": "markdown",
   "metadata": {},
   "source": [
    "# Optimizing a Healthcare Network for Improved Service Delivery\n"
   ]
  },
  {
   "cell_type": "markdown",
   "metadata": {},
   "source": [
    "## 1- Data Gathering: \n",
    "Read table from Washington Demographics and make its dataframe."
   ]
  },
  {
   "cell_type": "code",
   "execution_count": null,
   "metadata": {},
   "outputs": [],
   "source": [
    "# read table from Washington-Demographic data\n",
    "import pandas as pd\n",
    "\n",
    "df = pd.read_html('https://www.washington-demographics.com/zip_codes_by_population',header=0)\n",
    "\n",
    "population_df = df[0]\n",
    "population_df.head()"
   ]
  },
  {
   "cell_type": "markdown",
   "metadata": {},
   "source": [
    "## 2- Data Understanding: \n",
    "Understand the gathered data with different pandas method"
   ]
  },
  {
   "cell_type": "code",
   "execution_count": null,
   "metadata": {},
   "outputs": [],
   "source": [
    "# check the shape of dataframe\n",
    "population_df.shape"
   ]
  },
  {
   "cell_type": "code",
   "execution_count": null,
   "metadata": {},
   "outputs": [],
   "source": [
    "# check the dimension of dataframe\n",
    "population_df.ndim"
   ]
  },
  {
   "cell_type": "code",
   "execution_count": null,
   "metadata": {},
   "outputs": [],
   "source": [
    "# check the datatypes of dataframe's columns\n",
    "population_df.dtypes"
   ]
  },
  {
   "cell_type": "code",
   "execution_count": null,
   "metadata": {},
   "outputs": [],
   "source": [
    "# check dataframe columns\n",
    "population_df.columns"
   ]
  },
  {
   "cell_type": "code",
   "execution_count": null,
   "metadata": {},
   "outputs": [],
   "source": [
    "# check dataframes statistical summery\n",
    "population_df.describe()"
   ]
  },
  {
   "cell_type": "code",
   "execution_count": null,
   "metadata": {},
   "outputs": [],
   "source": [
    "# check 1st 5 rows of dataframe\n",
    "population_df.head()"
   ]
  },
  {
   "cell_type": "markdown",
   "metadata": {
    "collapsed": true
   },
   "source": [
    "## 3- Data Cleaning:\n",
    "Clean data for manipulation purpose."
   ]
  },
  {
   "cell_type": "code",
   "execution_count": null,
   "metadata": {},
   "outputs": [],
   "source": [
    "population_df.tail()"
   ]
  },
  {
   "cell_type": "code",
   "execution_count": null,
   "metadata": {},
   "outputs": [],
   "source": [
    "# Now we delete last row which is just the description of the table\n",
    "population_df = population_df.drop([563], axis=0)"
   ]
  },
  {
   "cell_type": "code",
   "execution_count": null,
   "metadata": {},
   "outputs": [],
   "source": [
    "population_df.tail()"
   ]
  },
  {
   "cell_type": "code",
   "execution_count": null,
   "metadata": {},
   "outputs": [],
   "source": [
    "# Convert Population column into type int\n",
    "population_df = population_df.astype({\"Population\": int})"
   ]
  },
  {
   "cell_type": "code",
   "execution_count": null,
   "metadata": {},
   "outputs": [],
   "source": [
    "population_df['Population'].dtypes"
   ]
  },
  {
   "cell_type": "code",
   "execution_count": null,
   "metadata": {},
   "outputs": [],
   "source": [
    "# Now we delete the column \"Washington Zip codes by Population rank', becuse it is unncessary here\n",
    "population_df.drop([\"Washington Zip Codes by Population Rank\"], axis = 1, inplace = True)"
   ]
  },
  {
   "cell_type": "code",
   "execution_count": null,
   "metadata": {},
   "outputs": [],
   "source": [
    "population_df.head()"
   ]
  },
  {
   "cell_type": "markdown",
   "metadata": {},
   "source": [
    "## 4- Data Manipulation:\n",
    "Now manipulate the data for desired solution"
   ]
  },
  {
   "cell_type": "code",
   "execution_count": null,
   "metadata": {},
   "outputs": [],
   "source": [
    "# Its time to extract only the information of those area that is given in the document, so we make a new df\n",
    "df1 = population_df[population_df['Zip Code'].isin(['98007','98290','98065','98801','98104']) ]\n",
    "df1"
   ]
  },
  {
   "cell_type": "code",
   "execution_count": null,
   "metadata": {},
   "outputs": [],
   "source": [
    "# reset the index of new df\n",
    "df1 = df1.reset_index(drop=True)\n",
    "df1"
   ]
  },
  {
   "cell_type": "code",
   "execution_count": null,
   "metadata": {},
   "outputs": [],
   "source": [
    "# make dataframe that is given in the document\n",
    "facility_id = ['A','B','C','D','E']\n",
    "facility_area_zip_code = ['98007','98290','98065','98801','98104'] \n",
    "facility_staff_count = [21, 52, 43, 9, 64]\n",
    "df2 = pd.DataFrame({'Facility ID': facility_id,\n",
    "                         'Zip Code': facility_area_zip_code,\n",
    "                          'Facility Staff Count': facility_staff_count\n",
    "                        })\n",
    "df2"
   ]
  },
  {
   "cell_type": "code",
   "execution_count": null,
   "metadata": {},
   "outputs": [],
   "source": [
    "# merge both dataframes df1 & df2 in which same column is Zip code\n",
    "facilities = pd.merge(df2, df1, on = 'Zip Code')\n",
    "facilities"
   ]
  },
  {
   "cell_type": "code",
   "execution_count": null,
   "metadata": {},
   "outputs": [],
   "source": [
    "# Set the order of above dataframe\n",
    "facilities = facilities[['Facility ID', 'Zip Code', 'Population', 'Facility Staff Count']]\n",
    "facilities"
   ]
  },
  {
   "cell_type": "markdown",
   "metadata": {
    "collapsed": true
   },
   "source": [
    "### Now our data is completely ready for finding solution of the given problem\n",
    "1st we find current healthcare worker to patient ratio"
   ]
  },
  {
   "cell_type": "code",
   "execution_count": null,
   "metadata": {},
   "outputs": [],
   "source": [
    "facilities['Healthcare worker to patient ratio'] = facilities['Population']/ facilities['Facility Staff Count']\n",
    "facilities"
   ]
  },
  {
   "cell_type": "code",
   "execution_count": null,
   "metadata": {},
   "outputs": [],
   "source": [
    "# change \"Healthcare worker to patient ratio\" col into integer data type\n",
    "facilities = facilities.astype({\"Healthcare worker to patient ratio\": int})\n",
    "facilities"
   ]
  },
  {
   "cell_type": "markdown",
   "metadata": {},
   "source": [
    "Here we can see that all facilities in the above table having good Healthcare worker to patient ratio except facility D, so now we write the code to shift enough number of healthcare worker into those places where they are less in quantity."
   ]
  },
  {
   "cell_type": "markdown",
   "metadata": {},
   "source": [
    "We shift number of staff into different facilities according to the percentage of population"
   ]
  },
  {
   "cell_type": "code",
   "execution_count": null,
   "metadata": {},
   "outputs": [],
   "source": [
    "# find percentage of the population of each area \n",
    "population_percentage_in_area = []\n",
    "total_population = facilities['Population'].sum()\n",
    "total_staff = facilities['Facility Staff Count'].sum()\n",
    "for i in facilities['Population']:\n",
    "    p = (i / total_population) * 100\n",
    "    population_percentage_in_area.append(p)\n",
    "    \n",
    "# convert number of staff according to the population percentage in each area\n",
    "\n",
    "staff1 = []\n",
    "for i in facilities.index:\n",
    "    s = (population_percentage_in_area[i] * total_staff) / 100\n",
    "    staff1.append(round(s))\n"
   ]
  },
  {
   "cell_type": "code",
   "execution_count": null,
   "metadata": {},
   "outputs": [],
   "source": [
    "# Display Population Percantage in each area & converted staff according to it\n",
    "print(population_percentage_in_area)\n",
    "print(staff1)"
   ]
  },
  {
   "cell_type": "markdown",
   "metadata": {},
   "source": [
    "Now make both of above entites as a part of dataframe"
   ]
  },
  {
   "cell_type": "code",
   "execution_count": null,
   "metadata": {},
   "outputs": [],
   "source": [
    "new_facility_with_updated_staff = facilities.drop(['Facility Staff Count', 'Healthcare worker to patient ratio'], axis = 1)\n",
    "new_facility_with_updated_staff['New Staff Count'] = staff1\n",
    "new_facility_with_updated_staff['New Healthcare worker to patient ratio'] = round(new_facility_with_updated_staff['Population'] / new_facility_with_updated_staff['New Staff Count'])\n",
    "new_facility_with_updated_staff"
   ]
  },
  {
   "cell_type": "markdown",
   "metadata": {},
   "source": [
    "Now we create dataframe that also have area column(having complete address of area)"
   ]
  },
  {
   "cell_type": "code",
   "execution_count": null,
   "metadata": {},
   "outputs": [],
   "source": [
    "from geopy.geocoders import Nominatim \n",
    "geolocator = Nominatim()\n",
    "area = []\n",
    "for i in new_facility_with_updated_staff['Zip Code']:\n",
    "    location = geolocator.geocode(i) \n",
    "    area.append(location.address)\n",
    "    \n",
    "area\n",
    "\n",
    "new_facility_with_updated_staff['Area'] = area\n",
    "new_facility_with_updated_staff\n"
   ]
  },
  {
   "cell_type": "code",
   "execution_count": null,
   "metadata": {},
   "outputs": [],
   "source": [
    "# arrange the columns of df\n",
    "new_facility_with_updated_staff = new_facility_with_updated_staff[['Facility ID', 'Zip Code', 'Area', 'Population', 'New Staff Count', 'New Healthcare worker to patient ratio']]\n",
    "new_facility_with_updated_staff"
   ]
  },
  {
   "cell_type": "markdown",
   "metadata": {},
   "source": [
    "#### This is the approximate staff count that is distributed/ allocated according to population percentage in each area."
   ]
  },
  {
   "cell_type": "markdown",
   "metadata": {
    "collapsed": true
   },
   "source": [
    "##### Now its time to find distance from each area to other area.\n",
    "To perform this task, we use geopy library. It is a python library that makes it easy for Python developers to locate the coordinates of addresses, cities, countries, and landmarks across the globe using third-party geocoders and other data sources."
   ]
  },
  {
   "cell_type": "code",
   "execution_count": null,
   "metadata": {},
   "outputs": [],
   "source": [
    "# install geopy\n",
    "!pip install geopy"
   ]
  },
  {
   "cell_type": "code",
   "execution_count": null,
   "metadata": {},
   "outputs": [],
   "source": [
    "from geopy.geocoders import Nominatim \n",
    "geolocator = Nominatim()"
   ]
  },
  {
   "cell_type": "code",
   "execution_count": null,
   "metadata": {},
   "outputs": [],
   "source": [
    "# import geodesic module for finding distance between 2 locations\n",
    "from geopy.distance import geodesic\n",
    "iterator = len(new_facility_with_updated_staff.index)\n",
    "\n",
    "distance_in_miles = []\n",
    "distance_in_km = []\n",
    "each_area = []\n",
    "other_area = []\n",
    "\n",
    "# find distance from each area to another area and store their result in the above lists\n",
    "for i in range(iterator):\n",
    "    location_a = geolocator.geocode(new_facility_with_updated_staff['Zip Code'][i]) \n",
    "    area1 = new_facility_with_updated_staff['Facility ID'][i]\n",
    "    a_lat = location_a.latitude\n",
    "    a_long = location_a.longitude\n",
    "    point_a = (a_lat, a_long)\n",
    "    \n",
    "    for j in range(i+1, iterator):\n",
    "        location_b = geolocator.geocode(new_facility_with_updated_staff['Zip Code'][j]) \n",
    "        b_lat = location_b.latitude\n",
    "        b_long = location_b.longitude\n",
    "        point_b = (b_lat, b_long)\n",
    "        distance_miles = geodesic(point_a, point_b).miles \n",
    "        distance_in_miles.append(round(distance_miles,2))\n",
    "        distance_km = geodesic(point_a, point_b).km \n",
    "        distance_in_km.append(round(distance_km,2))\n",
    "        area2 = new_facility_with_updated_staff['Facility ID'][j]\n",
    "        each_area.append(area1)\n",
    "        other_area.append(area2)\n",
    "        \n",
    "        \n"
   ]
  },
  {
   "cell_type": "code",
   "execution_count": null,
   "metadata": {},
   "outputs": [],
   "source": [
    "# print all lists\n",
    "print(each_area)\n",
    "print(other_area)\n",
    "print(distance_in_miles)\n",
    "print(distance_in_km)"
   ]
  },
  {
   "cell_type": "markdown",
   "metadata": {},
   "source": [
    " Now we make a dataframe that shows distance between each area to every other area"
   ]
  },
  {
   "cell_type": "code",
   "execution_count": null,
   "metadata": {},
   "outputs": [],
   "source": [
    "distance_df = pd.DataFrame({\"Each Area\": each_area,\n",
    "                           \"Other Area\": other_area,\n",
    "                           \"Distance in Miles\": distance_in_miles,\n",
    "                           \"Distance in Km\": distance_in_km})\n",
    "\n",
    "distance_df"
   ]
  },
  {
   "cell_type": "code",
   "execution_count": null,
   "metadata": {},
   "outputs": [],
   "source": [
    "# arrange all the columns\n",
    "distance_df = distance_df[[\"Each Area\", \"Other Area\", \"Distance in Miles\", \"Distance in Km\"]]\n",
    "distance_df"
   ]
  },
  {
   "cell_type": "markdown",
   "metadata": {},
   "source": [
    "Make pivot table so data become easily readable. It takes simple column-wise data as input, and groups the entries into a two-dimensional table that provides a multidimensional summarization of the data."
   ]
  },
  {
   "cell_type": "code",
   "execution_count": null,
   "metadata": {},
   "outputs": [],
   "source": [
    "# Make pivot table for making above df easy to read\n",
    "\n",
    "distance_df_pivot = distance_df.pivot(index = \"Each Area\", columns = \"Other Area\")\n",
    "distance_df_pivot"
   ]
  },
  {
   "cell_type": "markdown",
   "metadata": {},
   "source": [
    "Now we can easily read and visualize data"
   ]
  },
  {
   "cell_type": "markdown",
   "metadata": {},
   "source": [
    "##### Its time to install folium that is a powerful Python library that helps in creating several types of Leaflet maps."
   ]
  },
  {
   "cell_type": "code",
   "execution_count": null,
   "metadata": {},
   "outputs": [],
   "source": [
    "!pip install folium==0.5.0\n",
    "import folium\n",
    "\n",
    "print('Folium installed and imported!')"
   ]
  },
  {
   "cell_type": "code",
   "execution_count": null,
   "metadata": {},
   "outputs": [],
   "source": [
    "# Create map of zip code 98007\n",
    "import folium\n",
    "loc = geolocator.geocode(\"98007\") \n",
    "#print((location.latitude, location.longitude)) \n",
    "world_map = folium.Map(location=[loc.latitude, loc.longitude], zoom_start=13)\n",
    "\n",
    "# display world map\n",
    "world_map"
   ]
  },
  {
   "cell_type": "code",
   "execution_count": null,
   "metadata": {},
   "outputs": [],
   "source": [
    "# instantiate a feature group for the incidents in the dataframe\n",
    "incidents = folium.map.FeatureGroup()\n",
    "lat = loc.latitude\n",
    "lng = loc.longitude\n",
    "# loop through the 100 crimes and add each to the incidents feature group\n",
    "incidents.add_child(\n",
    "        folium.CircleMarker(\n",
    "            [lat, lng],\n",
    "            radius=5, # define how big you want the circle markers to be\n",
    "            color='black',\n",
    "            fill=True,\n",
    "            fill_color='blue',\n",
    "            fill_opacity=0.6\n",
    "        )\n",
    "    )\n",
    "\n",
    "# add incidents to map\n",
    "label = geolocator.geocode(\"98007\").address\n",
    "folium.Marker([lat, lng], popup=label).add_to(world_map)   \n",
    "world_map.add_child(incidents)\n"
   ]
  },
  {
   "cell_type": "markdown",
   "metadata": {},
   "source": [
    "To show disatances from one area to another area , we make df that contain facility id with its area coordinates"
   ]
  },
  {
   "cell_type": "code",
   "execution_count": null,
   "metadata": {},
   "outputs": [],
   "source": [
    "\n",
    "\n",
    "latitudes = []\n",
    "longitudes = []\n",
    "\n",
    "for i in facility_area_zip_code:\n",
    "    location = geolocator.geocode(i)\n",
    "    lat = location.latitude\n",
    "    latitudes.append(lat)\n",
    "    lng = location.longitude\n",
    "    longitudes.append(lng)\n"
   ]
  },
  {
   "cell_type": "code",
   "execution_count": null,
   "metadata": {},
   "outputs": [],
   "source": [
    "print(facility_id)\n",
    "print(facility_area_zip_code)\n",
    "print(latitudes)\n",
    "print(longitudes)"
   ]
  },
  {
   "cell_type": "code",
   "execution_count": null,
   "metadata": {},
   "outputs": [],
   "source": [
    "area_with_coordinates = pd.DataFrame({\"Facility Id\":facility_id ,\n",
    "                                     \"Facility Area Zip Code\": facility_area_zip_code,\n",
    "                                     \"Latitudes\": latitudes,\n",
    "                                     \"Longitudes\": longitudes})\n",
    "\n",
    "area_with_coordinates"
   ]
  },
  {
   "cell_type": "markdown",
   "metadata": {},
   "source": [
    "##### Start creating maps from one place to another"
   ]
  },
  {
   "cell_type": "code",
   "execution_count": 2,
   "metadata": {},
   "outputs": [
    {
     "ename": "NameError",
     "evalue": "name 'area_with_coordinates' is not defined",
     "output_type": "error",
     "traceback": [
      "\u001b[1;31m---------------------------------------------------------------------------\u001b[0m",
      "\u001b[1;31mNameError\u001b[0m                                 Traceback (most recent call last)",
      "\u001b[1;32m<ipython-input-2-2e6873dc53d9>\u001b[0m in \u001b[0;36m<module>\u001b[1;34m\u001b[0m\n\u001b[0;32m      2\u001b[0m \u001b[1;32mimport\u001b[0m \u001b[0mfolium\u001b[0m\u001b[1;33m\u001b[0m\u001b[0m\n\u001b[0;32m      3\u001b[0m \u001b[1;33m\u001b[0m\u001b[0m\n\u001b[1;32m----> 4\u001b[1;33m my_map1 = folium.Map(location = [area_with_coordinates['Latitudes'][0], area_with_coordinates['Longitudes'][0]], \n\u001b[0m\u001b[0;32m      5\u001b[0m zoom_start = 9) \n\u001b[0;32m      6\u001b[0m \u001b[1;33m\u001b[0m\u001b[0m\n",
      "\u001b[1;31mNameError\u001b[0m: name 'area_with_coordinates' is not defined"
     ]
    }
   ],
   "source": [
    "# map from facility id 'A' to 'B'\n",
    "import folium \n",
    "\n",
    "my_map1 = folium.Map(location = [area_with_coordinates['Latitudes'][0], area_with_coordinates['Longitudes'][0]], \n",
    "zoom_start = 9) \n",
    "\n",
    "folium.Marker([area_with_coordinates['Latitudes'][0], area_with_coordinates['Longitudes'][0]], \n",
    "popup = \"Facility Id: \"+area_with_coordinates['Facility Id'][0]).add_to(my_map1) \n",
    "\n",
    "folium.Marker([area_with_coordinates['Latitudes'][1], area_with_coordinates['Longitudes'][1]], \n",
    "popup = \"Facility Id: \"+area_with_coordinates['Facility Id'][1]).add_to(my_map1) \n",
    "\n",
    "# Add a line to the map by using line method . \n",
    "# it connect both coordiates by the line \n",
    "# line_opacity implies intensity of the line \n",
    "\n",
    "folium.PolyLine(locations = [(area_with_coordinates['Latitudes'][0], area_with_coordinates['Longitudes'][0]), (area_with_coordinates['Latitudes'][1], area_with_coordinates['Longitudes'][1])], \n",
    "line_opacity = 0.5).add_to(my_map1) \n",
    "\n",
    "my_map1\n"
   ]
  },
  {
   "cell_type": "code",
   "execution_count": null,
   "metadata": {},
   "outputs": [],
   "source": [
    "# map from facility id 'A' to 'C'\n",
    "my_map2 = folium.Map(location = [area_with_coordinates['Latitudes'][0], area_with_coordinates['Longitudes'][0]], \n",
    "zoom_start = 10) \n",
    "\n",
    "folium.Marker([area_with_coordinates['Latitudes'][0], area_with_coordinates['Longitudes'][0]], \n",
    "popup = \"Facility Id: \"+area_with_coordinates['Facility Id'][0]).add_to(my_map2) \n",
    "\n",
    "folium.Marker([area_with_coordinates['Latitudes'][2], area_with_coordinates['Longitudes'][2]], \n",
    "popup = \"Facility Id: \"+area_with_coordinates['Facility Id'][2]).add_to(my_map2) \n",
    "folium.PolyLine(locations = [(area_with_coordinates['Latitudes'][0], area_with_coordinates['Longitudes'][0]), (area_with_coordinates['Latitudes'][2], area_with_coordinates['Longitudes'][2])], \n",
    "line_opacity = 0.5).add_to(my_map2) \n",
    "\n",
    "my_map2\n"
   ]
  },
  {
   "cell_type": "code",
   "execution_count": null,
   "metadata": {},
   "outputs": [],
   "source": [
    "# map from facility id 'A' to 'D'\n",
    "my_map3 = folium.Map(location = [area_with_coordinates['Latitudes'][0], area_with_coordinates['Longitudes'][0]], \n",
    "zoom_start = 8.3) \n",
    "\n",
    "folium.Marker([area_with_coordinates['Latitudes'][0], area_with_coordinates['Longitudes'][0]], \n",
    "popup = \"Facility Id: \"+area_with_coordinates['Facility Id'][0]).add_to(my_map3) \n",
    "\n",
    "folium.Marker([area_with_coordinates['Latitudes'][3], area_with_coordinates['Longitudes'][3]], \n",
    "popup = \"Facility Id: \"+area_with_coordinates['Facility Id'][3]).add_to(my_map3) \n",
    "folium.PolyLine(locations = [(area_with_coordinates['Latitudes'][0], area_with_coordinates['Longitudes'][0]), (area_with_coordinates['Latitudes'][3], area_with_coordinates['Longitudes'][3])], \n",
    "line_opacity = 0.5).add_to(my_map3) \n",
    "\n",
    "my_map3\n"
   ]
  },
  {
   "cell_type": "code",
   "execution_count": null,
   "metadata": {},
   "outputs": [],
   "source": [
    "# map from facility id 'A' to 'E'\n",
    "my_map4 = folium.Map(location = [area_with_coordinates['Latitudes'][0], area_with_coordinates['Longitudes'][0]], \n",
    "zoom_start = 9) \n",
    "\n",
    "folium.Marker([area_with_coordinates['Latitudes'][0], area_with_coordinates['Longitudes'][0]], \n",
    "popup = \"Facility Id: \"+area_with_coordinates['Facility Id'][0]).add_to(my_map4) \n",
    "\n",
    "folium.Marker([area_with_coordinates['Latitudes'][4], area_with_coordinates['Longitudes'][4]], \n",
    "popup = \"Facility Id: \"+area_with_coordinates['Facility Id'][4]).add_to(my_map4) \n",
    "\n",
    "# Add a line to the map by using line method . \n",
    "# it connect both coordiates by the line \n",
    "# line_opacity implies intensity of the line \n",
    "\n",
    "folium.PolyLine(locations = [(area_with_coordinates['Latitudes'][0], area_with_coordinates['Longitudes'][0]), (area_with_coordinates['Latitudes'][4], area_with_coordinates['Longitudes'][4])], \n",
    "line_opacity = 0.5).add_to(my_map4) \n",
    "\n",
    "my_map4\n"
   ]
  },
  {
   "cell_type": "markdown",
   "metadata": {
    "collapsed": true
   },
   "source": [
    "We can create more distance maps same as above"
   ]
  },
  {
   "cell_type": "markdown",
   "metadata": {},
   "source": [
    "# Done"
   ]
  },
  {
   "cell_type": "code",
   "execution_count": null,
   "metadata": {},
   "outputs": [],
   "source": []
  },
  {
   "cell_type": "code",
   "execution_count": null,
   "metadata": {},
   "outputs": [],
   "source": []
  },
  {
   "cell_type": "code",
   "execution_count": null,
   "metadata": {},
   "outputs": [],
   "source": []
  }
 ],
 "metadata": {
  "kernelspec": {
   "display_name": "Python 3",
   "language": "python",
   "name": "python3"
  },
  "language_info": {
   "codemirror_mode": {
    "name": "ipython",
    "version": 3
   },
   "file_extension": ".py",
   "mimetype": "text/x-python",
   "name": "python",
   "nbconvert_exporter": "python",
   "pygments_lexer": "ipython3",
   "version": "3.6.5"
  },
  "widgets": {
   "state": {},
   "version": "1.1.2"
  }
 },
 "nbformat": 4,
 "nbformat_minor": 1
}
